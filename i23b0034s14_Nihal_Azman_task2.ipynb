{
 "cells": [
  {
   "cell_type": "markdown",
   "id": "64908c53-6979-4f6f-b7d9-1378936820c9",
   "metadata": {},
   "source": [
    "#### Name: Nihal Azman\n",
    "#### ID : i23b0034s14"
   ]
  },
  {
   "cell_type": "code",
   "execution_count": 1,
   "id": "7a5a88d4-84c9-4a59-8b33-eb1126cc1e9b",
   "metadata": {},
   "outputs": [],
   "source": [
    "import pandas as pd\n",
    "import numpy as np"
   ]
  },
  {
   "cell_type": "markdown",
   "id": "1c31c971-4c3b-41f1-8b4f-818ef15ac006",
   "metadata": {},
   "source": [
    "### Problem 2.1"
   ]
  },
  {
   "cell_type": "code",
   "execution_count": 2,
   "id": "43c1af4f-ff8d-4dfe-a0d2-723fdfb53da7",
   "metadata": {},
   "outputs": [
    {
     "name": "stdout",
     "output_type": "stream",
     "text": [
      "Index([  4,   9,  14,  19,  24,  29,  34,  39,  44,  49,\n",
      "       ...\n",
      "       954, 959, 964, 969, 974, 979, 984, 989, 994, 999],\n",
      "      dtype='int64', length=200)\n"
     ]
    }
   ],
   "source": [
    "series = pd.Series(range(1001, 2001))\n",
    "mul_5_pos= series[series % 5 == 0].index\n",
    "print(mul_5_pos)"
   ]
  },
  {
   "cell_type": "markdown",
   "id": "a2499c90-34f4-4670-9767-ff292d68a0ea",
   "metadata": {},
   "source": [
    "### Problem 2.2"
   ]
  },
  {
   "cell_type": "code",
   "execution_count": 3,
   "id": "d17a3989-f38d-4041-8500-f100147fe6f3",
   "metadata": {},
   "outputs": [
    {
     "name": "stdout",
     "output_type": "stream",
     "text": [
      "Day of month:\n",
      "[1, 2, 7, 6, 12, 6]\n",
      "Day of year:\n",
      "[1, 276, 66, 126, 103, 96]\n",
      "Week number:\n",
      "[1, 39, 10, 19, 15, 14]\n",
      "Day of week:\n",
      "['Thursday', 'Sunday', 'Wednesday', 'Tuesday', 'Tuesday', 'Saturday']\n"
     ]
    }
   ],
   "source": [
    "date_series = pd.Series(['01 Jan 2015', '10-02-2016', '20180307', '2014/05/06', '2016-04-12', '2019-04-06T11:20'])\n",
    "date_series=pd.to_datetime(date_series,format=\"mixed\")\n",
    "print(\"Day of month:\")\n",
    "print(date_series.dt.day.tolist())\n",
    "print(\"Day of year:\")\n",
    "print(date_series.dt.dayofyear.tolist())\n",
    "print(\"Week number:\")\n",
    "print(date_series.dt.isocalendar().week.tolist())\n",
    "print(\"Day of week:\")\n",
    "print(date_series.dt.strftime('%A').tolist())"
   ]
  },
  {
   "cell_type": "markdown",
   "id": "d06bdcc0-ec66-4808-bafb-a2c67d512524",
   "metadata": {},
   "source": [
    "### Problem 2.3"
   ]
  },
  {
   "cell_type": "code",
   "execution_count": 4,
   "id": "c39601a8-367d-4bf1-a643-96017c5569b9",
   "metadata": {},
   "outputs": [
    {
     "name": "stdout",
     "output_type": "stream",
     "text": [
      "Number of attempts in the examination is greater than 2:\n",
      "      name  score  attempts qualify\n",
      "b     Dima    9.0         3      no\n",
      "d    James    NaN         3      no\n",
      "f  Michael   20.0         3     yes\n"
     ]
    }
   ],
   "source": [
    "exam_data = {'name': ['Anastasia', 'Dima', 'Katherine', 'James', 'Emily', 'Michael', 'Matthew', 'Laura', 'Kevin', 'Jonas'],\n",
    "\n",
    "'score': [12.5, 9, 16.5, np.nan, 9, 20, 14.5, np.nan, 8, 19],\n",
    "\n",
    "'attempts': [1, 3, 2, 3, 2, 3, 1, 1, 2, 1],\n",
    "\n",
    "'qualify': ['yes', 'no', 'yes', 'no', 'no', 'yes', 'yes', 'no', 'no', 'yes']}\n",
    "\n",
    "labels = ['a', 'b', 'c', 'd', 'e', 'f', 'g', 'h', 'i', 'j']\n",
    "df= pd.DataFrame(exam_data,index=labels)\n",
    "df_cd=df.loc[df.attempts > 2]\n",
    "print(\"Number of attempts in the examination is greater than 2:\")\n",
    "print(df_cd)"
   ]
  },
  {
   "cell_type": "markdown",
   "id": "cbc1dee6-6eb6-4545-9d4a-8c104a91e2ba",
   "metadata": {},
   "source": [
    "###  problem 2.4"
   ]
  },
  {
   "cell_type": "code",
   "execution_count": 5,
   "id": "f3cdfa18-3f77-49b6-9a12-6568c3a782f4",
   "metadata": {},
   "outputs": [
    {
     "name": "stdout",
     "output_type": "stream",
     "text": [
      "Join first two said dataframes along rows:\n",
      "  student_id              name  marks\n",
      "0         S1  Danniella Fenton    200\n",
      "1         S2      Ryder Storey    210\n",
      "2         S3      Bryce Jensen    190\n",
      "3         S4         Ed Bernal    222\n",
      "4         S5       Kwame Morin    199\n",
      "0         S4  Scarlette Fisher    201\n",
      "1         S5  Carla Williamson    200\n",
      "2         S6       Dante Morse    198\n",
      "3         S7    Kaiser William    219\n",
      "4         S8   Madeeha Preston    201\n",
      "Now join the said result_data and df_exam_data along student_id:\n",
      "  student_id              name  marks  exam_id\n",
      "0         S1  Danniella Fenton    200       23\n",
      "1         S2      Ryder Storey    210       45\n",
      "2         S3      Bryce Jensen    190       12\n",
      "3         S4         Ed Bernal    222       67\n",
      "4         S4  Scarlette Fisher    201       67\n",
      "5         S5       Kwame Morin    199       21\n",
      "6         S5  Carla Williamson    200       21\n",
      "7         S7    Kaiser William    219       55\n",
      "8         S8   Madeeha Preston    201       33\n"
     ]
    }
   ],
   "source": [
    "data1 = {'student_id': ['S1', 'S2', 'S3', 'S4', 'S5'],\n",
    "         'name': ['Danniella Fenton', 'Ryder Storey', 'Bryce Jensen', 'Ed Bernal', 'Kwame Morin'],\n",
    "         'marks': [200, 210, 190, 222, 199]}\n",
    "student_data1 = pd.DataFrame(data1)\n",
    "data2 = {'student_id': ['S4', 'S5', 'S6', 'S7', 'S8'],\n",
    "         'name': ['Scarlette Fisher', 'Carla Williamson', 'Dante Morse', 'Kaiser William', 'Madeeha Preston'],\n",
    "         'marks': [201, 200, 198, 219, 201]}\n",
    "student_data2 = pd.DataFrame(data2)\n",
    "data3 = {'student_id': ['S1', 'S2', 'S3', 'S4', 'S5', 'S7', 'S8', 'S9', 'S10', 'S11', 'S12', 'S13'],\n",
    "         'exam_id': [23, 45, 12, 67, 21, 55, 33, 14, 56, 83, 88, 12]}\n",
    "exam_data = pd.DataFrame(data3)\n",
    "com_stu_data = pd.concat([student_data1, student_data2])\n",
    "print(\"Join first two said dataframes along rows:\")\n",
    "print(com_stu_data)\n",
    "result = pd.merge(com_stu_data, exam_data, on='student_id')\n",
    "print(\"Now join the said result_data and df_exam_data along student_id:\")\n",
    "print(result)"
   ]
  },
  {
   "cell_type": "markdown",
   "id": "a143a10f-a076-403e-a753-171ba0121d33",
   "metadata": {},
   "source": [
    "### Problem 2.5"
   ]
  },
  {
   "cell_type": "markdown",
   "id": "c6f5708a-44c7-44e7-b957-6f4f7b86e371",
   "metadata": {},
   "source": [
    "#### 2.5.1"
   ]
  },
  {
   "cell_type": "code",
   "execution_count": 6,
   "id": "92414f1f-09c8-48c8-bb11-eed2a0b3cd9c",
   "metadata": {},
   "outputs": [
    {
     "name": "stdout",
     "output_type": "stream",
     "text": [
      "    id         name  class  mark  gender   age\n",
      "0    1     John Deo   Four    75  female   8.0\n",
      "1    2     Max Ruin  Three    85    male   7.0\n",
      "2    3       Arnold  Three    55    male   7.0\n",
      "3    4   Krish Star   Four    60  female   8.0\n",
      "4    5    John Mike   Four    60  female   8.0\n",
      "5    6    Alex John   Four    55    male   NaN\n",
      "6    7  My John Rob  Fifth    78    male   9.0\n",
      "7    8       Asruid   Five    85    male   9.0\n",
      "8    9      Tes Qry    Six    78    male   NaN\n",
      "9   10     Big John   Four    55  female   7.0\n",
      "10  11       Ronald    Six    89  female  10.0\n",
      "11  12        Recky    Six    94  female   NaN\n",
      "12  13          Kty  Seven    88  female  11.0\n",
      "13  14         Bigy  Seven    88  female   NaN\n",
      "14  15     Tade Row   Four    88    male   7.0\n",
      "15  16        Gimmy   Four    88    male   8.0\n",
      "16  17        Tumyu    Six    54    male   NaN\n",
      "17  18        Honny   Five    75    male   NaN\n",
      "18  19        Tinny   Nine    18    male  12.0\n",
      "19  20       Jackly   Nine    65  female  12.0\n",
      "20  21   Babby John   Four    69  female   NaN\n",
      "21  22       Reggid  Seven    55  female   NaN\n",
      "22  23        Herod  Eight    79    male   9.0\n",
      "23  24    Tiddy Now  Seven    78    male   NaN\n",
      "24  25     Giff Tow  Seven    88    male   8.0\n",
      "25  26       Crelea  Seven    79    male   NaN\n",
      "26  27     Big Nose  Three    81  female   7.0\n",
      "27  28    Rojj Base  Seven    86  female   NaN\n",
      "28  29  Tess Played  Seven    55    male   8.0\n",
      "29  30    Reppy Red    Six    79  female   9.0\n",
      "30  31  Marry Toeey   Four    88    male   9.0\n",
      "31  32    Binn Rott  Seven    90  female   9.0\n",
      "32  33    Kenn Rein    Six    96  female   NaN\n",
      "33  34     Gain Toe  Seven    69    male   8.0\n",
      "34  35   Rows Noump    Six    88  female   8.0\n"
     ]
    }
   ],
   "source": [
    "dataframe = pd.read_csv('student.csv')\n",
    "print(dataframe)"
   ]
  },
  {
   "cell_type": "markdown",
   "id": "d8e5c0a5-c396-4953-842a-6e109445b136",
   "metadata": {},
   "source": [
    "#### 2.5.2"
   ]
  },
  {
   "cell_type": "code",
   "execution_count": 7,
   "id": "1ee938ac-444a-4dc5-b0d1-8cfd16d09445",
   "metadata": {},
   "outputs": [
    {
     "name": "stdout",
     "output_type": "stream",
     "text": [
      "              id       mark        age\n",
      "count  35.000000  35.000000  23.000000\n",
      "mean   18.000000  74.657143   8.608696\n",
      "std    10.246951  16.401117   1.469048\n",
      "min     1.000000  18.000000   7.000000\n",
      "25%     9.500000  62.500000   8.000000\n",
      "50%    18.000000  79.000000   8.000000\n",
      "75%    26.500000  88.000000   9.000000\n",
      "max    35.000000  96.000000  12.000000\n"
     ]
    }
   ],
   "source": [
    "print(dataframe.describe())"
   ]
  },
  {
   "cell_type": "markdown",
   "id": "88a86694-1895-4a67-8faa-33c03a6991ee",
   "metadata": {},
   "source": [
    "#### 2.5.3"
   ]
  },
  {
   "cell_type": "code",
   "execution_count": 8,
   "id": "5747b1d8-b282-4dfc-bd22-b46271bf5496",
   "metadata": {},
   "outputs": [
    {
     "name": "stdout",
     "output_type": "stream",
     "text": [
      "Count of students grouped by gender:\n",
      "gender\n",
      "male      18\n",
      "female    17\n",
      "Name: count, dtype: int64\n"
     ]
    }
   ],
   "source": [
    "gender_counts = dataframe['gender'].value_counts()\n",
    "print(\"Count of students grouped by gender:\")\n",
    "print(gender_counts)"
   ]
  },
  {
   "cell_type": "markdown",
   "id": "1c4349a9-f233-4db9-af5d-a275ca44e4f5",
   "metadata": {},
   "source": [
    "#### 2.5.4"
   ]
  },
  {
   "cell_type": "code",
   "execution_count": 9,
   "id": "771e5a4b-38c6-4ad7-9b26-e2871612e8e1",
   "metadata": {},
   "outputs": [
    {
     "name": "stdout",
     "output_type": "stream",
     "text": [
      "Count of NaN values:\n",
      "12\n"
     ]
    }
   ],
   "source": [
    "nan_counts = dataframe['age'].isna().sum()\n",
    "print(\"Count of NaN values:\")\n",
    "print(nan_counts)"
   ]
  },
  {
   "cell_type": "markdown",
   "id": "2c6eadff-b777-4c7e-b9be-25a9313bd930",
   "metadata": {},
   "source": [
    "#### 2.5.5"
   ]
  },
  {
   "cell_type": "code",
   "execution_count": 10,
   "id": "c2e2a69d-ae08-4940-a42a-22ce0ce6150f",
   "metadata": {},
   "outputs": [],
   "source": [
    "dataframe = dataframe.fillna(10)"
   ]
  },
  {
   "cell_type": "markdown",
   "id": "12d99c85-152d-4cf9-81ea-c49f33b8bf75",
   "metadata": {},
   "source": [
    "#### 2.5.6"
   ]
  },
  {
   "cell_type": "code",
   "execution_count": 15,
   "id": "ce3957d3-a637-40a9-b223-f2b984f3787f",
   "metadata": {},
   "outputs": [
    {
     "name": "stdout",
     "output_type": "stream",
     "text": [
      "First 10 rows of the dataframe:\n",
      "    id         name  class  mark  gender   age\n",
      "0    1     John Deo   Four    75  female   8.0\n",
      "3    4   Krish Star   Four    60  female   8.0\n",
      "4    5    John Mike   Four    60  female   8.0\n",
      "5    6    Alex John   Four    55    male  10.0\n",
      "6    7  My John Rob  Fifth    78    male   9.0\n",
      "7    8       Asruid   Five    85    male   9.0\n",
      "8    9      Tes Qry    Six    78    male  10.0\n",
      "10  11       Ronald    Six    89  female  10.0\n",
      "11  12        Recky    Six    94  female  10.0\n",
      "12  13          Kty  Seven    88  female  11.0\n"
     ]
    }
   ],
   "source": [
    "print(\"First 10 rows of the dataframe:\")\n",
    "print(dataframe.head(10))"
   ]
  },
  {
   "cell_type": "markdown",
   "id": "89ed46a0-e870-49f3-b81e-827b60ae62a2",
   "metadata": {},
   "source": [
    "#### 2.5.7"
   ]
  },
  {
   "cell_type": "code",
   "execution_count": 16,
   "id": "10deef1d-2607-49d2-bc6d-fd76eab206a2",
   "metadata": {},
   "outputs": [],
   "source": [
    "dataframe = dataframe[dataframe['age'] >= 8]"
   ]
  },
  {
   "cell_type": "markdown",
   "id": "1fec2b8b-fd9c-4322-ba44-3dd292ad2589",
   "metadata": {},
   "source": [
    "#### 2.5.8"
   ]
  },
  {
   "cell_type": "code",
   "execution_count": 17,
   "id": "3fa75ad9-39d6-40ef-975d-afdf9605a861",
   "metadata": {},
   "outputs": [
    {
     "name": "stdout",
     "output_type": "stream",
     "text": [
      "Filtered DataFrame where age >= 8:\n",
      "    id         name  class  mark  gender   age\n",
      "0    1     John Deo   Four    75  female   8.0\n",
      "3    4   Krish Star   Four    60  female   8.0\n",
      "4    5    John Mike   Four    60  female   8.0\n",
      "5    6    Alex John   Four    55    male  10.0\n",
      "6    7  My John Rob  Fifth    78    male   9.0\n",
      "7    8       Asruid   Five    85    male   9.0\n",
      "8    9      Tes Qry    Six    78    male  10.0\n",
      "10  11       Ronald    Six    89  female  10.0\n",
      "11  12        Recky    Six    94  female  10.0\n",
      "12  13          Kty  Seven    88  female  11.0\n",
      "13  14         Bigy  Seven    88  female  10.0\n",
      "15  16        Gimmy   Four    88    male   8.0\n",
      "16  17        Tumyu    Six    54    male  10.0\n",
      "17  18        Honny   Five    75    male  10.0\n",
      "18  19        Tinny   Nine    18    male  12.0\n",
      "19  20       Jackly   Nine    65  female  12.0\n",
      "20  21   Babby John   Four    69  female  10.0\n",
      "21  22       Reggid  Seven    55  female  10.0\n",
      "22  23        Herod  Eight    79    male   9.0\n",
      "23  24    Tiddy Now  Seven    78    male  10.0\n",
      "24  25     Giff Tow  Seven    88    male   8.0\n",
      "25  26       Crelea  Seven    79    male  10.0\n",
      "27  28    Rojj Base  Seven    86  female  10.0\n",
      "28  29  Tess Played  Seven    55    male   8.0\n",
      "29  30    Reppy Red    Six    79  female   9.0\n",
      "30  31  Marry Toeey   Four    88    male   9.0\n",
      "31  32    Binn Rott  Seven    90  female   9.0\n",
      "32  33    Kenn Rein    Six    96  female  10.0\n",
      "33  34     Gain Toe  Seven    69    male   8.0\n",
      "34  35   Rows Noump    Six    88  female   8.0\n"
     ]
    }
   ],
   "source": [
    "new_df = dataframe.copy()\n",
    "print(\"Filtered DataFrame where age >= 8:\")\n",
    "print(new_df)"
   ]
  }
 ],
 "metadata": {
  "kernelspec": {
   "display_name": "Python 3 (ipykernel)",
   "language": "python",
   "name": "python3"
  },
  "language_info": {
   "codemirror_mode": {
    "name": "ipython",
    "version": 3
   },
   "file_extension": ".py",
   "mimetype": "text/x-python",
   "name": "python",
   "nbconvert_exporter": "python",
   "pygments_lexer": "ipython3",
   "version": "3.11.2"
  }
 },
 "nbformat": 4,
 "nbformat_minor": 5
}
