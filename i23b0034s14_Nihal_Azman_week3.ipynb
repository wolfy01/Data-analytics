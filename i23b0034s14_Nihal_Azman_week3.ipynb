{
 "cells": [
  {
   "cell_type": "markdown",
   "id": "6098e26f-4ba3-460a-848b-28c27a990915",
   "metadata": {},
   "source": [
    "#### Name: Nihal Azman\n",
    "#### ID: i23b0034s14"
   ]
  },
  {
   "cell_type": "code",
   "execution_count": 1,
   "id": "34083cca-1b86-4b5d-a002-fba649950071",
   "metadata": {},
   "outputs": [],
   "source": [
    "import pandas as pd"
   ]
  },
  {
   "cell_type": "markdown",
   "id": "0b561f99-58a0-46d7-8ff7-128cd7d12778",
   "metadata": {},
   "source": [
    "#### Practice problem 4.1"
   ]
  },
  {
   "cell_type": "code",
   "execution_count": 4,
   "id": "fca0cf84-cca3-47df-9c94-c9641ffce5a1",
   "metadata": {},
   "outputs": [],
   "source": [
    "fact_table = pd.read_excel(r'e-com-sales-out.xlsx', sheet_name='Fact_table', engine='openpyxl')\n",
    "trans_dim = pd.read_excel(r'e-com-sales-out.xlsx', sheet_name='Trans_dim', engine='openpyxl')\n",
    "item_dim = pd.read_excel(r'e-com-sales-out.xlsx', sheet_name='Item_dim', engine='openpyxl')\n",
    "coustomer_dim = pd.read_excel(r'e-com-sales-out.xlsx', sheet_name='Customer_dim', engine='openpyxl')\n",
    "time_dim = pd.read_excel(r'e-com-sales-out.xlsx', sheet_name='Time_dim', engine='openpyxl')\n",
    "store_dim = pd.read_excel(r'e-com-sales-out.xlsx', sheet_name='Store_dim', engine='openpyxl')"
   ]
  },
  {
   "cell_type": "markdown",
   "id": "488dc64e-fb87-48b6-b66f-aaef59815e6d",
   "metadata": {},
   "source": [
    "#### Practice problem 4.2"
   ]
  },
  {
   "cell_type": "code",
   "execution_count": 5,
   "id": "49d84611-2bbc-4e14-9a45-390c056ffb0d",
   "metadata": {},
   "outputs": [
    {
     "name": "stdout",
     "output_type": "stream",
     "text": [
      "1145.033275\n"
     ]
    }
   ],
   "source": [
    "mean_price=fact_table['total_price'].mean()\n",
    "print(mean_price)"
   ]
  },
  {
   "cell_type": "markdown",
   "id": "5102df78-6023-49cd-8f2c-df867ad08211",
   "metadata": {},
   "source": [
    "#### Practice problem 4.3"
   ]
  },
  {
   "cell_type": "code",
   "execution_count": 6,
   "id": "fc6e0269-2cef-4e93-a5d5-8f464dcbf570",
   "metadata": {},
   "outputs": [
    {
     "name": "stdout",
     "output_type": "stream",
     "text": [
      "quantity        233.167596\n",
      "unit_price        8.638702\n",
      "total_price    4120.906268\n",
      "dtype: float64\n"
     ]
    }
   ],
   "source": [
    "sd=fact_table[['quantity','unit_price','total_price']].std()\n",
    "print(sd)"
   ]
  },
  {
   "cell_type": "markdown",
   "id": "b535150e-58fa-4ca2-aeec-15cb62754066",
   "metadata": {},
   "source": [
    "#### Practice problem 4.4"
   ]
  },
  {
   "cell_type": "code",
   "execution_count": 7,
   "id": "5e5632b9-327d-4275-b0de-ba0b893981a5",
   "metadata": {},
   "outputs": [
    {
     "name": "stdout",
     "output_type": "stream",
     "text": [
      "0    ct\n",
      "Name: unit, dtype: object\n"
     ]
    }
   ],
   "source": [
    "cunit=fact_table['unit'].mode()\n",
    "print(cunit)"
   ]
  },
  {
   "cell_type": "markdown",
   "id": "1bda5039-d4bd-4b87-a9c6-29a86df997e8",
   "metadata": {},
   "source": [
    "#### Practice problem 4.5"
   ]
  },
  {
   "cell_type": "code",
   "execution_count": 8,
   "id": "8a2435a4-1031-40cf-9421-a02a38f943f6",
   "metadata": {},
   "outputs": [
    {
     "name": "stdout",
     "output_type": "stream",
     "text": [
      "quantity       11.421689\n",
      "unit_price      1.870001\n",
      "total_price    10.550289\n",
      "dtype: float64\n"
     ]
    }
   ],
   "source": [
    "skewness=fact_table[['quantity','unit_price','total_price']].skew()\n",
    "print(skewness)"
   ]
  },
  {
   "cell_type": "markdown",
   "id": "596c264d-5d8b-48c3-9555-f5836a494868",
   "metadata": {},
   "source": [
    "#### Practice problem 4.6"
   ]
  },
  {
   "cell_type": "code",
   "execution_count": 10,
   "id": "cd0bcec9-96bb-4f26-8140-de137b495859",
   "metadata": {},
   "outputs": [
    {
     "name": "stdout",
     "output_type": "stream",
     "text": [
      "240.0\n"
     ]
    }
   ],
   "source": [
    "median_of_total_price=fact_table['total_price'].median()\n",
    "print(median_of_total_price)"
   ]
  },
  {
   "cell_type": "markdown",
   "id": "26957afa-43ce-44e2-ba86-aaaa993f1f70",
   "metadata": {},
   "source": [
    "#### Practice problem 4.7"
   ]
  },
  {
   "cell_type": "code",
   "execution_count": 11,
   "id": "6d4b77a6-9c02-44d0-a95c-7c5b6d7ee6f7",
   "metadata": {},
   "outputs": [
    {
     "name": "stdout",
     "output_type": "stream",
     "text": [
      "     coustomer_key  quantity  unit_price  total_price\n",
      "0          C000001        80       60.00       1060.0\n",
      "1          C000002        20       18.00        360.0\n",
      "2          C000003       278      100.50       3728.0\n",
      "3          C000004      1219      100.75      19473.5\n",
      "4          C000005       215      124.00       4313.0\n",
      "...            ...       ...         ...          ...\n",
      "1979       C001996        72       83.00       2145.0\n",
      "1980       C001997       630       46.00       9400.0\n",
      "1981       C001998        37       16.00        592.0\n",
      "1982       C001999       247       91.00       4710.0\n",
      "1983       C002000        98      123.00       2258.0\n",
      "\n",
      "[1984 rows x 4 columns]\n"
     ]
    }
   ],
   "source": [
    "sum_data=fact_table.groupby('coustomer_key')[['quantity','unit_price','total_price']].sum().reset_index()\n",
    "print(sum_data)"
   ]
  },
  {
   "cell_type": "markdown",
   "id": "22550e6f-8cb2-4b3c-873a-de376387c986",
   "metadata": {},
   "source": [
    "#### Practice problem 4.8"
   ]
  },
  {
   "cell_type": "code",
   "execution_count": 12,
   "id": "ca3968bc-ef3b-4f57-94b0-d477dbd0e5a1",
   "metadata": {},
   "outputs": [
    {
     "name": "stdout",
     "output_type": "stream",
     "text": [
      "              quantity unit_price             \n",
      "                   sum       mean    min   max\n",
      "coustomer_key                                 \n",
      "C000001             80  15.000000  10.00  20.0\n",
      "C000002             20  18.000000  18.00  18.0\n",
      "C000003            278  16.750000  12.00  29.0\n",
      "C000004           1219  16.791667   6.75  26.0\n",
      "C000005            215  24.800000  14.00  55.0\n",
      "...                ...        ...    ...   ...\n",
      "C001996             72  20.750000  12.00  42.0\n",
      "C001997            630  15.333333  12.00  20.0\n",
      "C001998             37  16.000000  16.00  16.0\n",
      "C001999            247  22.750000  15.00  35.0\n",
      "C002000             98  20.500000   9.00  44.0\n",
      "\n",
      "[1984 rows x 4 columns]\n"
     ]
    }
   ],
   "source": [
    "data=fact_table.groupby('coustomer_key').aggregate({'quantity':'sum','unit_price':['mean','min','max']})\n",
    "print(data)"
   ]
  },
  {
   "cell_type": "markdown",
   "id": "ebd664f8-fcec-4891-9232-2aa733b405a0",
   "metadata": {},
   "source": [
    "#### Practice problem 4.9"
   ]
  },
  {
   "cell_type": "code",
   "execution_count": 13,
   "id": "fdbaa018-885f-4d0f-8800-3aaed87ef9ab",
   "metadata": {},
   "outputs": [
    {
     "name": "stdout",
     "output_type": "stream",
     "text": [
      "                total_price unit_price      \n",
      "                        sum        min   max\n",
      "upazila                                     \n",
      "Agargaon          180588.00       6.75  55.0\n",
      "Baghaichari       210464.25       6.00  55.0\n",
      "Balaganj          323197.75       6.75  53.0\n",
      "Bashundhara R/A   465324.50       6.00  55.0\n",
      "Bholahat          317127.75       6.00  53.0\n",
      "Birganj           260203.50       6.00  55.0\n",
      "Bishwanath        292397.25       6.75  55.0\n",
      "Boira             196159.50       6.00  48.0\n",
      "Borhanuddin       218102.00       6.00  48.0\n",
      "Chadpur           202066.25       6.75  55.0\n",
      "Dhanmondi         296917.75       6.00  48.0\n",
      "Farmgate          204008.50       6.75  53.0\n",
      "Fulbari           297245.25       6.00  53.0\n",
      "Fulbaria          243455.00       6.00  55.0\n",
      "Gaffargaon        400247.75       6.00  55.0\n",
      "Gazipur Sadar     357561.25       6.75  53.0\n",
      "Gournadi          160594.50       6.00  53.0\n",
      "Jamalganj         234020.75       6.00  55.0\n",
      "Jessore           304294.75       6.75  55.0\n",
      "Kaligonj          259197.50       6.00  55.0\n",
      "Kathalia          247891.25       6.00  55.0\n",
      "Kawkhali          290529.50       6.00  53.0\n",
      "Keranigong        274387.50       6.00  53.0\n",
      "Kharpara          279935.75       6.00  53.0\n",
      "Khetlal           258908.75       6.00  53.0\n",
      "Khilgoan          257669.25       6.00  55.0\n",
      "Komol Nagar       200745.75       6.00  55.0\n",
      "Kulaura           166783.50       6.00  55.0\n",
      "Magura            246563.75       6.00  55.0\n",
      "Megna             427491.50       6.00  53.0\n",
      "Mirpur-1          777261.25       6.00  55.0\n",
      "Mohammadpur       296238.50       6.00  45.0\n",
      "Nandail           176532.25       6.00  55.0\n",
      "Narsingdi Sadar   354694.00       6.00  55.0\n",
      "Rajshahi          286471.75       6.75  55.0\n",
      "Ramgati           308020.00       6.00  53.0\n",
      "Savar             244392.50       6.00  55.0\n",
      "Sayedpur          135960.50       6.75  55.0\n",
      "Sherpur           274747.75       6.00  55.0\n",
      "Tahirpur          225339.50       6.00  55.0\n",
      "Uttara            296594.50       6.00  48.0\n"
     ]
    }
   ],
   "source": [
    "data=pd.merge(fact_table,store_dim, on='store_key')\n",
    "data=data.groupby('upazila').aggregate({'total_price':'sum','unit_price':['min','max']})\n",
    "print(data)"
   ]
  },
  {
   "cell_type": "markdown",
   "id": "00ae9e28-08df-4412-b77f-b86291987edc",
   "metadata": {},
   "source": [
    "#### Practice problem 4.10"
   ]
  },
  {
   "cell_type": "code",
   "execution_count": 14,
   "id": "3a848be2-1625-4c49-aec1-1d9d254886a5",
   "metadata": {},
   "outputs": [
    {
     "name": "stdout",
     "output_type": "stream",
     "text": [
      "0.9779865332515268\n"
     ]
    }
   ],
   "source": [
    "correlation=fact_table['quantity'].corr(fact_table['total_price'])\n",
    "print(correlation)"
   ]
  },
  {
   "cell_type": "markdown",
   "id": "496d62a5-4ade-431b-b6c7-ac556025e110",
   "metadata": {},
   "source": [
    "#### Practice problem 4.11"
   ]
  },
  {
   "cell_type": "code",
   "execution_count": 16,
   "id": "a726457f-f31f-480e-85bc-ac37b0104c57",
   "metadata": {},
   "outputs": [
    {
     "name": "stdout",
     "output_type": "stream",
     "text": [
      "0.977986533251527\n",
      "I observed a correlation of approximately 0.977986533251527 between the scores of unit_price and quantity. This suggests a strong positive correlation between the two columns.\n"
     ]
    }
   ],
   "source": [
    "correlation=fact_table['total_price'].corr(fact_table['quantity'])\n",
    "print(correlation) \n",
    "print(\"I observed a correlation of approximately \" + str(correlation) + \" between the scores of unit_price and quantity. This suggests a strong positive correlation between the two columns.\")"
   ]
  },
  {
   "cell_type": "markdown",
   "id": "270c4b4b-2160-4e1e-95cf-28719e3e0fca",
   "metadata": {},
   "source": [
    "#### Practice problem 4.12"
   ]
  },
  {
   "cell_type": "code",
   "execution_count": 17,
   "id": "b656ed1e-1f06-4089-8a78-9c4628e08d1d",
   "metadata": {},
   "outputs": [
    {
     "name": "stdout",
     "output_type": "stream",
     "text": [
      "             quantity  unit_price  total_price\n",
      "quantity     1.000000    0.015193     0.977987\n",
      "unit_price   0.015193    1.000000     0.096378\n",
      "total_price  0.977987    0.096378     1.000000\n",
      "Observing that all correlation values are close to 1, I can confidently conclude that there is a strong positive correlation.\n"
     ]
    }
   ],
   "source": [
    "table=fact_table[['quantity','unit_price','total_price']]\n",
    "correlation=table.corr()\n",
    "print(correlation)\n",
    "print(\"Observing that all correlation values are close to 1, I can confidently conclude that there is a strong positive correlation.\")"
   ]
  },
  {
   "cell_type": "code",
   "execution_count": null,
   "id": "b5862b5b-2ccc-4023-9da8-790339b18232",
   "metadata": {},
   "outputs": [],
   "source": []
  }
 ],
 "metadata": {
  "kernelspec": {
   "display_name": "Python 3 (ipykernel)",
   "language": "python",
   "name": "python3"
  },
  "language_info": {
   "codemirror_mode": {
    "name": "ipython",
    "version": 3
   },
   "file_extension": ".py",
   "mimetype": "text/x-python",
   "name": "python",
   "nbconvert_exporter": "python",
   "pygments_lexer": "ipython3",
   "version": "3.11.2"
  }
 },
 "nbformat": 4,
 "nbformat_minor": 5
}
