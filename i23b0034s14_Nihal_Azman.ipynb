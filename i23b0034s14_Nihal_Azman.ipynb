{
 "cells": [
  {
   "cell_type": "markdown",
   "id": "048933c0-9e89-4115-8cef-86e1aaeed1c4",
   "metadata": {},
   "source": [
    "#### Name: Nihal Azman\n",
    "#### Id:i23b0034s14"
   ]
  },
  {
   "cell_type": "code",
   "execution_count": 2,
   "id": "30ce9f3a-9b85-40ef-ac94-33d6f5b5c1dc",
   "metadata": {},
   "outputs": [],
   "source": [
    "import numpy as np"
   ]
  },
  {
   "cell_type": "markdown",
   "id": "e5e9d806-0e45-4974-854e-48c5391d2d3f",
   "metadata": {},
   "source": [
    "### Problem 1"
   ]
  },
  {
   "cell_type": "code",
   "execution_count": 5,
   "id": "2093ddc8-472c-4700-af53-23884bef6eb4",
   "metadata": {},
   "outputs": [
    {
     "name": "stdout",
     "output_type": "stream",
     "text": [
      "[43 66]\n"
     ]
    }
   ],
   "source": [
    "x=np.array([10])\n",
    "y=np.array([25])\n",
    "z=np.array([33])\n",
    "x=np.hstack((x, z))\n",
    "y=np.hstack((y, z))\n",
    "x=x+z\n",
    "print(x)"
   ]
  },
  {
   "cell_type": "markdown",
   "id": "ea9b797b-cfdf-4175-af1a-7813fa7fac31",
   "metadata": {},
   "source": [
    "#### Problem 2"
   ]
  },
  {
   "cell_type": "code",
   "execution_count": 6,
   "id": "56ab3c31-4ce3-42fd-8c94-1835ed3e6ff2",
   "metadata": {},
   "outputs": [
    {
     "name": "stdout",
     "output_type": "stream",
     "text": [
      "[[50 60]\n",
      " [65 15]\n",
      " [10 10]]\n"
     ]
    }
   ],
   "source": [
    "x=np.array([[10, 12], [13, 3], [2, 2]])\n",
    "x=x*5\n",
    "print(x)"
   ]
  },
  {
   "cell_type": "markdown",
   "id": "33f5a38b-438f-406e-9493-fff00267a1bc",
   "metadata": {},
   "source": [
    "### Problem 3"
   ]
  },
  {
   "cell_type": "code",
   "execution_count": 7,
   "id": "ac715134-abdd-4ad2-b4e8-bc6a180b76e7",
   "metadata": {},
   "outputs": [
    {
     "name": "stdout",
     "output_type": "stream",
     "text": [
      "[[5. 0. 0. 0. 0. 0. 0. 0. 0. 0.]\n",
      " [0. 5. 0. 0. 0. 0. 0. 0. 0. 0.]\n",
      " [0. 0. 5. 0. 0. 0. 0. 0. 0. 0.]\n",
      " [0. 0. 0. 5. 0. 0. 0. 0. 0. 0.]\n",
      " [0. 0. 0. 0. 5. 0. 0. 0. 0. 0.]\n",
      " [0. 0. 0. 0. 0. 5. 0. 0. 0. 0.]\n",
      " [0. 0. 0. 0. 0. 0. 5. 0. 0. 0.]\n",
      " [0. 0. 0. 0. 0. 0. 0. 5. 0. 0.]\n",
      " [0. 0. 0. 0. 0. 0. 0. 0. 5. 0.]\n",
      " [0. 0. 0. 0. 0. 0. 0. 0. 0. 5.]]\n"
     ]
    }
   ],
   "source": [
    "x = np.eye(10)\n",
    "x=x*5\n",
    "print(x)"
   ]
  },
  {
   "cell_type": "markdown",
   "id": "81da414e-db5a-49cd-9570-27f1f4d84453",
   "metadata": {},
   "source": [
    "### Problem 4"
   ]
  },
  {
   "cell_type": "code",
   "execution_count": 8,
   "id": "5d07e2c0-aab6-45cd-9e23-4ed41c9ee5c3",
   "metadata": {},
   "outputs": [
    {
     "name": "stdout",
     "output_type": "stream",
     "text": [
      "[[[100 105]\n",
      "  [110 115]\n",
      "  [120 125]\n",
      "  [130 135]\n",
      "  [140 145]]\n",
      "\n",
      " [[150 155]\n",
      "  [160 165]\n",
      "  [170 175]\n",
      "  [180 185]\n",
      "  [190 195]]]\n"
     ]
    }
   ],
   "source": [
    "x=np.arange(100, 100+5*20, 5)\n",
    "x=x.reshape((2,5,2))\n",
    "print(x)"
   ]
  },
  {
   "cell_type": "markdown",
   "id": "565f509b-c286-4dbc-8809-fd57025dd3a5",
   "metadata": {},
   "source": [
    "### Problem 5"
   ]
  },
  {
   "cell_type": "code",
   "execution_count": 10,
   "id": "aaed8714-0c26-4857-8cb9-5fac62ecb4cc",
   "metadata": {},
   "outputs": [
    {
     "name": "stdout",
     "output_type": "stream",
     "text": [
      "[[ 1  2 15 66]\n",
      " [ 3  4 20 25]]\n"
     ]
    }
   ],
   "source": [
    "a=np.array([[1,2],[3,4]])\n",
    "b=np.array([[15,66],[20,25]])\n",
    "m=np.hstack((a,b))\n",
    "print(m)"
   ]
  },
  {
   "cell_type": "markdown",
   "id": "e55d9460-21b3-4171-8e5d-41224005624d",
   "metadata": {},
   "source": [
    "### Problem 6"
   ]
  },
  {
   "cell_type": "code",
   "execution_count": 11,
   "id": "4dd8e2e1-9670-4f60-8bb5-1b4acc3e9eea",
   "metadata": {},
   "outputs": [
    {
     "name": "stdout",
     "output_type": "stream",
     "text": [
      "[[ 1  2]\n",
      " [ 3  4]\n",
      " [15 66]\n",
      " [20 25]]\n"
     ]
    }
   ],
   "source": [
    "a=np.array([[1,2],[3,4]])\n",
    "b=np.array([[15,66],[20,25]])\n",
    "mv=np.vstack((a,b))\n",
    "print(mv)"
   ]
  }
 ],
 "metadata": {
  "kernelspec": {
   "display_name": "Python 3 (ipykernel)",
   "language": "python",
   "name": "python3"
  },
  "language_info": {
   "codemirror_mode": {
    "name": "ipython",
    "version": 3
   },
   "file_extension": ".py",
   "mimetype": "text/x-python",
   "name": "python",
   "nbconvert_exporter": "python",
   "pygments_lexer": "ipython3",
   "version": "3.11.2"
  }
 },
 "nbformat": 4,
 "nbformat_minor": 5
}
